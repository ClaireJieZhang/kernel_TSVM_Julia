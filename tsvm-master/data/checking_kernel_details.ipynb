{
 "cells": [
  {
   "cell_type": "code",
   "execution_count": 1,
   "metadata": {},
   "outputs": [],
   "source": [
    "import numpy as np\n",
    "import math"
   ]
  },
  {
   "cell_type": "code",
   "execution_count": 2,
   "metadata": {},
   "outputs": [],
   "source": [
    "all_data = np.loadtxt(\"3_data.txt\", delimiter=\",\")"
   ]
  },
  {
   "cell_type": "code",
   "execution_count": 3,
   "metadata": {},
   "outputs": [],
   "source": [
    "new_data=all_data[0:3, :]"
   ]
  },
  {
   "cell_type": "code",
   "execution_count": 5,
   "metadata": {},
   "outputs": [
    {
     "name": "stdout",
     "output_type": "stream",
     "text": [
      "x\n",
      "[ 0.107143  0.60307  -1.        1.      ]\n",
      "y\n",
      "[ 0.107143  0.60307  -1.        1.      ]\n",
      "np.linalg.norm(i-j)\n",
      "0.0\n",
      "eee\n",
      "0.0\n",
      "1.0\n",
      "x\n",
      "[ 0.107143  0.60307  -1.        1.      ]\n",
      "y\n",
      "[0.093318 0.649854 1.       1.      ]\n",
      "np.linalg.norm(i-j)\n",
      "2.000594879849741\n",
      "eee\n",
      "4.002379873281\n",
      "0.018272101816025236\n",
      "x\n",
      "[ 0.107143  0.60307  -1.        1.      ]\n",
      "y\n",
      "[ 0.0979263  0.705409  -1.         1.       ]\n",
      "np.linalg.norm(i-j)\n",
      "0.10275319206667008\n",
      "eee\n",
      "0.010558218479889992\n",
      "0.9894973238609194\n",
      "x\n",
      "[0.093318 0.649854 1.       1.      ]\n",
      "y\n",
      "[ 0.107143  0.60307  -1.        1.      ]\n",
      "np.linalg.norm(i-j)\n",
      "2.000594879849741\n",
      "eee\n",
      "4.002379873281\n",
      "0.018272101816025236\n",
      "x\n",
      "[0.093318 0.649854 1.       1.      ]\n",
      "y\n",
      "[0.093318 0.649854 1.       1.      ]\n",
      "np.linalg.norm(i-j)\n",
      "0.0\n",
      "eee\n",
      "0.0\n",
      "1.0\n",
      "x\n",
      "[0.093318 0.649854 1.       1.      ]\n",
      "y\n",
      "[ 0.0979263  0.705409  -1.         1.       ]\n",
      "np.linalg.norm(i-j)\n",
      "2.0007767477791942\n",
      "eee\n",
      "4.00310759445389\n",
      "0.018258809657739627\n",
      "x\n",
      "[ 0.0979263  0.705409  -1.         1.       ]\n",
      "y\n",
      "[ 0.107143  0.60307  -1.        1.      ]\n",
      "np.linalg.norm(i-j)\n",
      "0.10275319206667008\n",
      "eee\n",
      "0.010558218479889992\n",
      "0.9894973238609194\n",
      "x\n",
      "[ 0.0979263  0.705409  -1.         1.       ]\n",
      "y\n",
      "[0.093318 0.649854 1.       1.      ]\n",
      "np.linalg.norm(i-j)\n",
      "2.0007767477791942\n",
      "eee\n",
      "4.00310759445389\n",
      "0.018258809657739627\n",
      "x\n",
      "[ 0.0979263  0.705409  -1.         1.       ]\n",
      "y\n",
      "[ 0.0979263  0.705409  -1.         1.       ]\n",
      "np.linalg.norm(i-j)\n",
      "0.0\n",
      "eee\n",
      "0.0\n",
      "1.0\n"
     ]
    }
   ],
   "source": [
    "for i in range(3):\n",
    "    for j in range(3):\n",
    "        x=new_data[i,:]\n",
    "        y=new_data[j,:]\n",
    "        print (\"x\")\n",
    "        print (x)\n",
    "        print (\"y\")\n",
    "        print (y)\n",
    "        print (\"np.linalg.norm(i-j)\")\n",
    "        print (np.linalg.norm(x-y))\n",
    "        eee=np.linalg.norm(x-y)**2\n",
    "        print (\"eee\")\n",
    "        print (eee)\n",
    "        print (math.exp(-eee))\n",
    "        "
   ]
  },
  {
   "cell_type": "code",
   "execution_count": null,
   "metadata": {},
   "outputs": [],
   "source": []
  },
  {
   "cell_type": "code",
   "execution_count": null,
   "metadata": {},
   "outputs": [],
   "source": []
  },
  {
   "cell_type": "code",
   "execution_count": null,
   "metadata": {},
   "outputs": [],
   "source": []
  },
  {
   "cell_type": "code",
   "execution_count": null,
   "metadata": {},
   "outputs": [],
   "source": []
  }
 ],
 "metadata": {
  "kernelspec": {
   "display_name": "Python 3",
   "language": "python",
   "name": "python3"
  },
  "language_info": {
   "codemirror_mode": {
    "name": "ipython",
    "version": 3
   },
   "file_extension": ".py",
   "mimetype": "text/x-python",
   "name": "python",
   "nbconvert_exporter": "python",
   "pygments_lexer": "ipython3",
   "version": "3.6.5"
  }
 },
 "nbformat": 4,
 "nbformat_minor": 2
}
